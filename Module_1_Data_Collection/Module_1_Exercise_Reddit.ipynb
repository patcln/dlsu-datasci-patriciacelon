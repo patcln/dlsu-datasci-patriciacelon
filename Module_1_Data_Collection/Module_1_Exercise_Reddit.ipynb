{
 "cells": [
  {
   "cell_type": "code",
   "execution_count": 1,
   "metadata": {},
   "outputs": [],
   "source": [
    "import pandas as pd \n",
    "import datetime\n",
    "import csv\n",
    "import os \n",
    "import requests \n",
    "import datetime as dt\n",
    "import time"
   ]
  },
  {
   "cell_type": "markdown",
   "metadata": {},
   "source": [
    "# Exercise"
   ]
  },
  {
   "cell_type": "markdown",
   "metadata": {},
   "source": [
    "For your exercise do the following:\n",
    "\n",
    "1. Choose a reddit page you want to crawl\n",
    "2. The following fields should be present when you crawl **(10 points)**:\n",
    "    - author\n",
    "    - subreddit\n",
    "    - date created \n",
    "    - number of comments \n",
    "    - score\n",
    "    - submission title \n",
    "    - submission description\n",
    "3. After crawling, save your results to a pandas dataframe **(3 points)**. \n",
    "4. Answer the following questions **(12 points)**:\n",
    "    - How many submissions were you able to gather? \n",
    "    - Who has the most submissions? \n",
    "    - Which submission has the highest score? \n",
    "    - Which submission has the highest number of comments?\n",
    "    - Which day of the week has the most submissions? \n",
    "    \n",
    "**Tip:** _For item#4, recall how to use the aggregation functions in `pandas` like count, value_counts, sum, etc. For getting the day of the week, look into how to get the `dayofweek` from a datetime object in `pandas`. (Hint: You may need to use `pd.to_datetime` to convert your date column...)_"
   ]
  },
  {
   "cell_type": "markdown",
   "metadata": {},
   "source": [
    "#### 1. Choose a reddit page you want to crawl\n",
    "r/classicalmusic, date range: 8/2/20 - 8/15/20 (2 weeks)"
   ]
  },
  {
   "cell_type": "markdown",
   "metadata": {},
   "source": [
    "#### 2. The following fields should be present when you crawl\n",
    "\n",
    "author: author <br />\n",
    "subreddit: subreddit <br />\n",
    "date created: created_utc <br />\n",
    "number of comments: num_comments <br />\n",
    "score: score <br />\n",
    "submission title: title <br />\n",
    "submission description: selftext <br />"
   ]
  },
  {
   "cell_type": "code",
   "execution_count": 2,
   "metadata": {},
   "outputs": [
    {
     "name": "stdout",
     "output_type": "stream",
     "text": [
      "Doing 2020-08-02 to 2020-08-03\n",
      "=====Done\n",
      "Doing 2020-08-03 to 2020-08-04\n",
      "=====Done\n",
      "Doing 2020-08-04 to 2020-08-05\n",
      "=====Done\n",
      "Doing 2020-08-05 to 2020-08-06\n",
      "=====Done\n",
      "Doing 2020-08-06 to 2020-08-07\n",
      "=====Done\n",
      "Doing 2020-08-07 to 2020-08-08\n",
      "=====Done\n",
      "Doing 2020-08-08 to 2020-08-09\n",
      "=====Done\n",
      "Doing 2020-08-09 to 2020-08-10\n",
      "=====Done\n",
      "Doing 2020-08-10 to 2020-08-11\n",
      "=====Done\n",
      "Doing 2020-08-11 to 2020-08-12\n",
      "=====Done\n",
      "Doing 2020-08-12 to 2020-08-13\n",
      "=====Done\n",
      "Doing 2020-08-13 to 2020-08-14\n",
      "=====Done\n",
      "Doing 2020-08-14 to 2020-08-15\n",
      "=====Done\n",
      "Doing 2020-08-15 to 2020-08-16\n",
      "=====Done\n"
     ]
    }
   ],
   "source": [
    "def to_utc(date):\n",
    "    return int(date.replace(tzinfo=dt.timezone.utc).timestamp())\n",
    "    \n",
    "def to_readable_date(timestamp):\n",
    "    return dt.datetime.fromtimestamp(timestamp).strftime(\"%Y-%m-%d\")\n",
    "\n",
    "#2 weeks\n",
    "start_date = dt.datetime.strptime(\"2020-08-02\", \"%Y-%m-%d\")\n",
    "end_date = dt.datetime.strptime(\"2020-08-15\", \"%Y-%m-%d\")\n",
    " \n",
    "date_range = (pd.date_range(\n",
    "                start_date, \n",
    "                periods=(end_date - start_date).days + 2)\n",
    "              .tolist())\n",
    "\n",
    "sort_type=\"score\"\n",
    "sort=\"desc\"\n",
    "fields=[\"author\",\"subreddit\",\"created_utc\",\"num_comments\",\"score\",\"title\",\"selftext\"]\n",
    "subreddit = 'classicalmusic'\n",
    "url = \"https://api.pushshift.io/reddit/submission/search/\"\n",
    "results = []\n",
    "for i, s_date in enumerate(date_range):\n",
    "    if i != len(date_range)-1:\n",
    "        #declare end date \n",
    "        e_date = date_range[i+1]\n",
    "        r = requests.get(url = url, params={\n",
    "            'after': to_utc(s_date),\n",
    "            'before': to_utc(e_date),\n",
    "            'sort_type': sort_type,\n",
    "            'sort': sort,\n",
    "            'subreddit': subreddit,\n",
    "            'fields': fields,\n",
    "            \"size\": 100 #max size 100\n",
    "        })\n",
    "\n",
    "        #add logs \n",
    "        print(f\"Doing {s_date.strftime('%Y-%m-%d')} to {e_date.strftime('%Y-%m-%d')}\")\n",
    "        if r.status_code == 200: #http status 200 - successful \n",
    "            results.append(r.json()['data'])\n",
    "            print(\"=====Done\")\n",
    "        else:\n",
    "            print(\"=====Skipped\")\n",
    "        time.sleep(1)"
   ]
  },
  {
   "cell_type": "markdown",
   "metadata": {},
   "source": [
    "#### 3. After crawling, save your results to a pandas dataframe"
   ]
  },
  {
   "cell_type": "code",
   "execution_count": 3,
   "metadata": {},
   "outputs": [
    {
     "data": {
      "text/html": [
       "<div>\n",
       "<style scoped>\n",
       "    .dataframe tbody tr th:only-of-type {\n",
       "        vertical-align: middle;\n",
       "    }\n",
       "\n",
       "    .dataframe tbody tr th {\n",
       "        vertical-align: top;\n",
       "    }\n",
       "\n",
       "    .dataframe thead th {\n",
       "        text-align: right;\n",
       "    }\n",
       "</style>\n",
       "<table border=\"1\" class=\"dataframe\">\n",
       "  <thead>\n",
       "    <tr style=\"text-align: right;\">\n",
       "      <th></th>\n",
       "      <th>author</th>\n",
       "      <th>subreddit</th>\n",
       "      <th>date created</th>\n",
       "      <th>number of comments</th>\n",
       "      <th>score</th>\n",
       "      <th>submission title</th>\n",
       "      <th>submission description</th>\n",
       "    </tr>\n",
       "  </thead>\n",
       "  <tbody>\n",
       "    <tr>\n",
       "      <th>0</th>\n",
       "      <td>art_42069</td>\n",
       "      <td>classicalmusic</td>\n",
       "      <td>2020-08-02 02:07:44</td>\n",
       "      <td>11</td>\n",
       "      <td>1</td>\n",
       "      <td>Please help me find pieces similar to this!!</td>\n",
       "      <td>I am a painter and just started listening to c...</td>\n",
       "    </tr>\n",
       "    <tr>\n",
       "      <th>1</th>\n",
       "      <td>lapapinton</td>\n",
       "      <td>classicalmusic</td>\n",
       "      <td>2020-08-02 05:53:02</td>\n",
       "      <td>0</td>\n",
       "      <td>1</td>\n",
       "      <td>Walking shrill: shawm bands in China</td>\n",
       "      <td></td>\n",
       "    </tr>\n",
       "    <tr>\n",
       "      <th>2</th>\n",
       "      <td>kafka84_</td>\n",
       "      <td>classicalmusic</td>\n",
       "      <td>2020-08-02 07:35:08</td>\n",
       "      <td>0</td>\n",
       "      <td>1</td>\n",
       "      <td>Edvard Grieg - Symphonic Dances, Op. 64 (Paavo...</td>\n",
       "      <td></td>\n",
       "    </tr>\n",
       "    <tr>\n",
       "      <th>3</th>\n",
       "      <td>notwhitebutwong</td>\n",
       "      <td>classicalmusic</td>\n",
       "      <td>2020-08-02 07:32:21</td>\n",
       "      <td>1</td>\n",
       "      <td>1</td>\n",
       "      <td>I'm starting a new series simplifying classica...</td>\n",
       "      <td></td>\n",
       "    </tr>\n",
       "    <tr>\n",
       "      <th>4</th>\n",
       "      <td>prustage</td>\n",
       "      <td>classicalmusic</td>\n",
       "      <td>2020-08-02 09:37:13</td>\n",
       "      <td>1</td>\n",
       "      <td>1</td>\n",
       "      <td>Beethoven being nice: “Wo die Unschuld Blumen ...</td>\n",
       "      <td></td>\n",
       "    </tr>\n",
       "  </tbody>\n",
       "</table>\n",
       "</div>"
      ],
      "text/plain": [
       "            author       subreddit        date created  number of comments  \\\n",
       "0        art_42069  classicalmusic 2020-08-02 02:07:44                  11   \n",
       "1       lapapinton  classicalmusic 2020-08-02 05:53:02                   0   \n",
       "2         kafka84_  classicalmusic 2020-08-02 07:35:08                   0   \n",
       "3  notwhitebutwong  classicalmusic 2020-08-02 07:32:21                   1   \n",
       "4         prustage  classicalmusic 2020-08-02 09:37:13                   1   \n",
       "\n",
       "   score                                   submission title  \\\n",
       "0      1       Please help me find pieces similar to this!!   \n",
       "1      1               Walking shrill: shawm bands in China   \n",
       "2      1  Edvard Grieg - Symphonic Dances, Op. 64 (Paavo...   \n",
       "3      1  I'm starting a new series simplifying classica...   \n",
       "4      1  Beethoven being nice: “Wo die Unschuld Blumen ...   \n",
       "\n",
       "                              submission description  \n",
       "0  I am a painter and just started listening to c...  \n",
       "1                                                     \n",
       "2                                                     \n",
       "3                                                     \n",
       "4                                                     "
      ]
     },
     "metadata": {},
     "output_type": "display_data"
    }
   ],
   "source": [
    "flat_list = []\n",
    "for sublist in results:\n",
    "    if sublist is not None:\n",
    "        for item in sublist:\n",
    "            flat_list.append(item)\n",
    "\n",
    "#convert from dictionary to dataframe\n",
    "df = pd.DataFrame.from_dict(flat_list)\n",
    "#renaming columns to specifications\n",
    "df.rename(columns={'created_utc':'date created (epoch)','num_comments':'number of comments', 'title':'submission title','selftext':'submission description'},inplace=True)\n",
    "#creating date column\n",
    "df['date created'] = pd.to_datetime(df['date created (epoch)'], unit = 's') #convert epoch to readable format\n",
    "#re odering columns\n",
    "df = df[['author','subreddit','date created','number of comments','score','submission title','submission description']]\n",
    "display(df.head())"
   ]
  },
  {
   "cell_type": "markdown",
   "metadata": {},
   "source": [
    "#### 4.a How many submissions were you able to gather?"
   ]
  },
  {
   "cell_type": "code",
   "execution_count": 4,
   "metadata": {},
   "outputs": [
    {
     "name": "stdout",
     "output_type": "stream",
     "text": [
      "There are 905 submissions in total\n"
     ]
    }
   ],
   "source": [
    "print(f\"There are {len(df)} submissions in total\")"
   ]
  },
  {
   "cell_type": "markdown",
   "metadata": {},
   "source": [
    "#### 4.b Who has the most submissions?\n",
    "\n",
    "***tonevibes has the most submissions at 20 submissions***"
   ]
  },
  {
   "cell_type": "code",
   "execution_count": 5,
   "metadata": {},
   "outputs": [
    {
     "data": {
      "text/plain": [
       "tonevibes           20\n",
       "steinweg            19\n",
       "boccia45            16\n",
       "SuperBreakfast      13\n",
       "lapapinton          11\n",
       "                    ..\n",
       "FluidicDegree22      1\n",
       "Epic_Bunnyhunter     1\n",
       "SWxNW                1\n",
       "MasterKeyzPiano      1\n",
       "GustavMahler9        1\n",
       "Name: author, Length: 660, dtype: int64"
      ]
     },
     "execution_count": 5,
     "metadata": {},
     "output_type": "execute_result"
    }
   ],
   "source": [
    "df['author'].value_counts() #unique count"
   ]
  },
  {
   "cell_type": "code",
   "execution_count": 6,
   "metadata": {},
   "outputs": [
    {
     "data": {
      "text/html": [
       "<div>\n",
       "<style scoped>\n",
       "    .dataframe tbody tr th:only-of-type {\n",
       "        vertical-align: middle;\n",
       "    }\n",
       "\n",
       "    .dataframe tbody tr th {\n",
       "        vertical-align: top;\n",
       "    }\n",
       "\n",
       "    .dataframe thead th {\n",
       "        text-align: right;\n",
       "    }\n",
       "</style>\n",
       "<table border=\"1\" class=\"dataframe\">\n",
       "  <thead>\n",
       "    <tr style=\"text-align: right;\">\n",
       "      <th></th>\n",
       "      <th>number of comments</th>\n",
       "      <th>score</th>\n",
       "    </tr>\n",
       "  </thead>\n",
       "  <tbody>\n",
       "    <tr>\n",
       "      <th>count</th>\n",
       "      <td>905.000000</td>\n",
       "      <td>905.000000</td>\n",
       "    </tr>\n",
       "    <tr>\n",
       "      <th>mean</th>\n",
       "      <td>5.592265</td>\n",
       "      <td>1.001105</td>\n",
       "    </tr>\n",
       "    <tr>\n",
       "      <th>std</th>\n",
       "      <td>14.651276</td>\n",
       "      <td>0.033241</td>\n",
       "    </tr>\n",
       "    <tr>\n",
       "      <th>min</th>\n",
       "      <td>0.000000</td>\n",
       "      <td>1.000000</td>\n",
       "    </tr>\n",
       "    <tr>\n",
       "      <th>25%</th>\n",
       "      <td>0.000000</td>\n",
       "      <td>1.000000</td>\n",
       "    </tr>\n",
       "    <tr>\n",
       "      <th>50%</th>\n",
       "      <td>2.000000</td>\n",
       "      <td>1.000000</td>\n",
       "    </tr>\n",
       "    <tr>\n",
       "      <th>75%</th>\n",
       "      <td>4.000000</td>\n",
       "      <td>1.000000</td>\n",
       "    </tr>\n",
       "    <tr>\n",
       "      <th>max</th>\n",
       "      <td>185.000000</td>\n",
       "      <td>2.000000</td>\n",
       "    </tr>\n",
       "  </tbody>\n",
       "</table>\n",
       "</div>"
      ],
      "text/plain": [
       "       number of comments       score\n",
       "count          905.000000  905.000000\n",
       "mean             5.592265    1.001105\n",
       "std             14.651276    0.033241\n",
       "min              0.000000    1.000000\n",
       "25%              0.000000    1.000000\n",
       "50%              2.000000    1.000000\n",
       "75%              4.000000    1.000000\n",
       "max            185.000000    2.000000"
      ]
     },
     "execution_count": 6,
     "metadata": {},
     "output_type": "execute_result"
    }
   ],
   "source": [
    "#4.c & 4.d\n",
    "df.describe()\n",
    "# max scrore is 2\n",
    "# max number of comments is 185"
   ]
  },
  {
   "cell_type": "markdown",
   "metadata": {},
   "source": [
    "#### 4.c Which submission has the highest score?\n",
    "\n",
    "***comrade_toastboy got the highest score of 2 with the submission title \"Where to start?\"***"
   ]
  },
  {
   "cell_type": "code",
   "execution_count": 7,
   "metadata": {},
   "outputs": [
    {
     "data": {
      "text/html": [
       "<div>\n",
       "<style scoped>\n",
       "    .dataframe tbody tr th:only-of-type {\n",
       "        vertical-align: middle;\n",
       "    }\n",
       "\n",
       "    .dataframe tbody tr th {\n",
       "        vertical-align: top;\n",
       "    }\n",
       "\n",
       "    .dataframe thead th {\n",
       "        text-align: right;\n",
       "    }\n",
       "</style>\n",
       "<table border=\"1\" class=\"dataframe\">\n",
       "  <thead>\n",
       "    <tr style=\"text-align: right;\">\n",
       "      <th></th>\n",
       "      <th>author</th>\n",
       "      <th>subreddit</th>\n",
       "      <th>date created</th>\n",
       "      <th>number of comments</th>\n",
       "      <th>score</th>\n",
       "      <th>submission title</th>\n",
       "      <th>submission description</th>\n",
       "    </tr>\n",
       "  </thead>\n",
       "  <tbody>\n",
       "    <tr>\n",
       "      <th>424</th>\n",
       "      <td>comrade_toastboy</td>\n",
       "      <td>classicalmusic</td>\n",
       "      <td>2020-08-09 18:21:16</td>\n",
       "      <td>10</td>\n",
       "      <td>2</td>\n",
       "      <td>Where to start?</td>\n",
       "      <td>Hi, so I played Violin for about 10 years but ...</td>\n",
       "    </tr>\n",
       "    <tr>\n",
       "      <th>0</th>\n",
       "      <td>art_42069</td>\n",
       "      <td>classicalmusic</td>\n",
       "      <td>2020-08-02 02:07:44</td>\n",
       "      <td>11</td>\n",
       "      <td>1</td>\n",
       "      <td>Please help me find pieces similar to this!!</td>\n",
       "      <td>I am a painter and just started listening to c...</td>\n",
       "    </tr>\n",
       "    <tr>\n",
       "      <th>596</th>\n",
       "      <td>delazor</td>\n",
       "      <td>classicalmusic</td>\n",
       "      <td>2020-08-11 10:08:27</td>\n",
       "      <td>34</td>\n",
       "      <td>1</td>\n",
       "      <td>I made a collage of Beethoven, using that one ...</td>\n",
       "      <td></td>\n",
       "    </tr>\n",
       "  </tbody>\n",
       "</table>\n",
       "</div>"
      ],
      "text/plain": [
       "               author       subreddit        date created  number of comments  \\\n",
       "424  comrade_toastboy  classicalmusic 2020-08-09 18:21:16                  10   \n",
       "0           art_42069  classicalmusic 2020-08-02 02:07:44                  11   \n",
       "596           delazor  classicalmusic 2020-08-11 10:08:27                  34   \n",
       "\n",
       "     score                                   submission title  \\\n",
       "424      2                                    Where to start?   \n",
       "0        1       Please help me find pieces similar to this!!   \n",
       "596      1  I made a collage of Beethoven, using that one ...   \n",
       "\n",
       "                                submission description  \n",
       "424  Hi, so I played Violin for about 10 years but ...  \n",
       "0    I am a painter and just started listening to c...  \n",
       "596                                                     "
      ]
     },
     "execution_count": 7,
     "metadata": {},
     "output_type": "execute_result"
    }
   ],
   "source": [
    "#top 3\n",
    "df.sort_values('score',ascending=False).head(3)"
   ]
  },
  {
   "cell_type": "markdown",
   "metadata": {},
   "source": [
    "#### 4.d Which submission has the highest number of comments?\n",
    "\n",
    "***jeeruff has the submission with the highest no. of comments at 185 comments with submission title \"Principal Piccolo of Berlin Philharmonics, Ask...\"***"
   ]
  },
  {
   "cell_type": "code",
   "execution_count": 8,
   "metadata": {},
   "outputs": [
    {
     "data": {
      "text/html": [
       "<div>\n",
       "<style scoped>\n",
       "    .dataframe tbody tr th:only-of-type {\n",
       "        vertical-align: middle;\n",
       "    }\n",
       "\n",
       "    .dataframe tbody tr th {\n",
       "        vertical-align: top;\n",
       "    }\n",
       "\n",
       "    .dataframe thead th {\n",
       "        text-align: right;\n",
       "    }\n",
       "</style>\n",
       "<table border=\"1\" class=\"dataframe\">\n",
       "  <thead>\n",
       "    <tr style=\"text-align: right;\">\n",
       "      <th></th>\n",
       "      <th>author</th>\n",
       "      <th>subreddit</th>\n",
       "      <th>date created</th>\n",
       "      <th>number of comments</th>\n",
       "      <th>score</th>\n",
       "      <th>submission title</th>\n",
       "      <th>submission description</th>\n",
       "    </tr>\n",
       "  </thead>\n",
       "  <tbody>\n",
       "    <tr>\n",
       "      <th>378</th>\n",
       "      <td>jeeruff</td>\n",
       "      <td>classicalmusic</td>\n",
       "      <td>2020-08-08 16:14:41</td>\n",
       "      <td>185</td>\n",
       "      <td>1</td>\n",
       "      <td>Principal Piccolo of Berlin Philharmonics, Ask...</td>\n",
       "      <td>[removed]</td>\n",
       "    </tr>\n",
       "    <tr>\n",
       "      <th>14</th>\n",
       "      <td>unclemuscles1979</td>\n",
       "      <td>classicalmusic</td>\n",
       "      <td>2020-08-02 15:31:38</td>\n",
       "      <td>141</td>\n",
       "      <td>1</td>\n",
       "      <td>A 1200-1500 piece mint vinyl collection I scor...</td>\n",
       "      <td></td>\n",
       "    </tr>\n",
       "    <tr>\n",
       "      <th>29</th>\n",
       "      <td>Metryco</td>\n",
       "      <td>classicalmusic</td>\n",
       "      <td>2020-08-02 17:33:56</td>\n",
       "      <td>124</td>\n",
       "      <td>1</td>\n",
       "      <td>It's time for some unpopular opinions</td>\n",
       "      <td>I'd just like to see what thoughts listeners a...</td>\n",
       "    </tr>\n",
       "  </tbody>\n",
       "</table>\n",
       "</div>"
      ],
      "text/plain": [
       "               author       subreddit        date created  number of comments  \\\n",
       "378           jeeruff  classicalmusic 2020-08-08 16:14:41                 185   \n",
       "14   unclemuscles1979  classicalmusic 2020-08-02 15:31:38                 141   \n",
       "29            Metryco  classicalmusic 2020-08-02 17:33:56                 124   \n",
       "\n",
       "     score                                   submission title  \\\n",
       "378      1  Principal Piccolo of Berlin Philharmonics, Ask...   \n",
       "14       1  A 1200-1500 piece mint vinyl collection I scor...   \n",
       "29       1              It's time for some unpopular opinions   \n",
       "\n",
       "                                submission description  \n",
       "378                                          [removed]  \n",
       "14                                                      \n",
       "29   I'd just like to see what thoughts listeners a...  "
      ]
     },
     "execution_count": 8,
     "metadata": {},
     "output_type": "execute_result"
    }
   ],
   "source": [
    "#top 3\n",
    "df.sort_values('number of comments',ascending=False).head(3)"
   ]
  },
  {
   "cell_type": "markdown",
   "metadata": {},
   "source": [
    "#### 4.e Which day of the week has the most submissions?\n",
    "\n",
    "***for the date range, sunday(6) is the day of the week that has the most submissions at 140***"
   ]
  },
  {
   "cell_type": "code",
   "execution_count": 9,
   "metadata": {},
   "outputs": [
    {
     "data": {
      "text/html": [
       "<style  type=\"text/css\" >\n",
       "    #T_0190624a_e2bb_11ea_a9d6_7831c1cc0eferow6_col0 {\n",
       "            background-color:  yellow;\n",
       "        }    #T_0190624a_e2bb_11ea_a9d6_7831c1cc0eferow6_col1 {\n",
       "            background-color:  yellow;\n",
       "        }</style><table id=\"T_0190624a_e2bb_11ea_a9d6_7831c1cc0efe\" ><thead>    <tr>        <th class=\"blank level0\" ></th>        <th class=\"col_heading level0 col0\" >day of the week</th>        <th class=\"col_heading level0 col1\" >submission title</th>    </tr></thead><tbody>\n",
       "                <tr>\n",
       "                        <th id=\"T_0190624a_e2bb_11ea_a9d6_7831c1cc0efelevel0_row0\" class=\"row_heading level0 row0\" >0</th>\n",
       "                        <td id=\"T_0190624a_e2bb_11ea_a9d6_7831c1cc0eferow0_col0\" class=\"data row0 col0\" >0</td>\n",
       "                        <td id=\"T_0190624a_e2bb_11ea_a9d6_7831c1cc0eferow0_col1\" class=\"data row0 col1\" >139</td>\n",
       "            </tr>\n",
       "            <tr>\n",
       "                        <th id=\"T_0190624a_e2bb_11ea_a9d6_7831c1cc0efelevel0_row1\" class=\"row_heading level0 row1\" >1</th>\n",
       "                        <td id=\"T_0190624a_e2bb_11ea_a9d6_7831c1cc0eferow1_col0\" class=\"data row1 col0\" >1</td>\n",
       "                        <td id=\"T_0190624a_e2bb_11ea_a9d6_7831c1cc0eferow1_col1\" class=\"data row1 col1\" >130</td>\n",
       "            </tr>\n",
       "            <tr>\n",
       "                        <th id=\"T_0190624a_e2bb_11ea_a9d6_7831c1cc0efelevel0_row2\" class=\"row_heading level0 row2\" >2</th>\n",
       "                        <td id=\"T_0190624a_e2bb_11ea_a9d6_7831c1cc0eferow2_col0\" class=\"data row2 col0\" >2</td>\n",
       "                        <td id=\"T_0190624a_e2bb_11ea_a9d6_7831c1cc0eferow2_col1\" class=\"data row2 col1\" >120</td>\n",
       "            </tr>\n",
       "            <tr>\n",
       "                        <th id=\"T_0190624a_e2bb_11ea_a9d6_7831c1cc0efelevel0_row3\" class=\"row_heading level0 row3\" >3</th>\n",
       "                        <td id=\"T_0190624a_e2bb_11ea_a9d6_7831c1cc0eferow3_col0\" class=\"data row3 col0\" >3</td>\n",
       "                        <td id=\"T_0190624a_e2bb_11ea_a9d6_7831c1cc0eferow3_col1\" class=\"data row3 col1\" >124</td>\n",
       "            </tr>\n",
       "            <tr>\n",
       "                        <th id=\"T_0190624a_e2bb_11ea_a9d6_7831c1cc0efelevel0_row4\" class=\"row_heading level0 row4\" >4</th>\n",
       "                        <td id=\"T_0190624a_e2bb_11ea_a9d6_7831c1cc0eferow4_col0\" class=\"data row4 col0\" >4</td>\n",
       "                        <td id=\"T_0190624a_e2bb_11ea_a9d6_7831c1cc0eferow4_col1\" class=\"data row4 col1\" >130</td>\n",
       "            </tr>\n",
       "            <tr>\n",
       "                        <th id=\"T_0190624a_e2bb_11ea_a9d6_7831c1cc0efelevel0_row5\" class=\"row_heading level0 row5\" >5</th>\n",
       "                        <td id=\"T_0190624a_e2bb_11ea_a9d6_7831c1cc0eferow5_col0\" class=\"data row5 col0\" >5</td>\n",
       "                        <td id=\"T_0190624a_e2bb_11ea_a9d6_7831c1cc0eferow5_col1\" class=\"data row5 col1\" >122</td>\n",
       "            </tr>\n",
       "            <tr>\n",
       "                        <th id=\"T_0190624a_e2bb_11ea_a9d6_7831c1cc0efelevel0_row6\" class=\"row_heading level0 row6\" >6</th>\n",
       "                        <td id=\"T_0190624a_e2bb_11ea_a9d6_7831c1cc0eferow6_col0\" class=\"data row6 col0\" >6</td>\n",
       "                        <td id=\"T_0190624a_e2bb_11ea_a9d6_7831c1cc0eferow6_col1\" class=\"data row6 col1\" >140</td>\n",
       "            </tr>\n",
       "    </tbody></table>"
      ],
      "text/plain": [
       "<pandas.io.formats.style.Styler at 0x7ffec945f580>"
      ]
     },
     "execution_count": 9,
     "metadata": {},
     "output_type": "execute_result"
    }
   ],
   "source": [
    "#dayofweek from a datetime object in pandas. \n",
    "#Hint: You may need to use pd.to_datetime to convert your date column...\n",
    "\n",
    "#creating day of the week column\n",
    "df['day of the week'] = df['date created'].dt.dayofweek #day of week: 0-monday, 6-sunday\n",
    "df.groupby('day of the week')['submission title'].count().reset_index().style.highlight_max()"
   ]
  },
  {
   "cell_type": "code",
   "execution_count": null,
   "metadata": {},
   "outputs": [],
   "source": []
  }
 ],
 "metadata": {
  "kernelspec": {
   "display_name": "Python 3",
   "language": "python",
   "name": "python3"
  },
  "language_info": {
   "codemirror_mode": {
    "name": "ipython",
    "version": 3
   },
   "file_extension": ".py",
   "mimetype": "text/x-python",
   "name": "python",
   "nbconvert_exporter": "python",
   "pygments_lexer": "ipython3",
   "version": "3.8.5"
  }
 },
 "nbformat": 4,
 "nbformat_minor": 4
}
