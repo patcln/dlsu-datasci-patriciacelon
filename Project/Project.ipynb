{
 "cells": [
  {
   "cell_type": "code",
   "execution_count": 1,
   "metadata": {},
   "outputs": [],
   "source": [
    "import pandas as pd\n",
    "import time\n",
    "from sklearn.preprocessing import MultiLabelBinarizer"
   ]
  },
  {
   "cell_type": "markdown",
   "metadata": {},
   "source": [
    "#### **Variables & Description**\n",
    "\n",
    "|  variable_name | type |                    desc                    |\n",
    "|:--------------:|:----:|:------------------------------------------:|\n",
    "| proj           | df   | main DataFrame                             |\n",
    "| services       | list | list of all subscription services          |\n",
    "| all_gen        | list | list of all available genres               |\n",
    "| countries_list | list | list of all countries                      |\n",
    "| service_pipe   | df   | proj joined with services one hot encoding |\n"
   ]
  },
  {
   "cell_type": "code",
   "execution_count": 2,
   "metadata": {},
   "outputs": [
    {
     "data": {
      "text/html": [
       "<div>\n",
       "<style scoped>\n",
       "    .dataframe tbody tr th:only-of-type {\n",
       "        vertical-align: middle;\n",
       "    }\n",
       "\n",
       "    .dataframe tbody tr th {\n",
       "        vertical-align: top;\n",
       "    }\n",
       "\n",
       "    .dataframe thead th {\n",
       "        text-align: right;\n",
       "    }\n",
       "</style>\n",
       "<table border=\"1\" class=\"dataframe\">\n",
       "  <thead>\n",
       "    <tr style=\"text-align: right;\">\n",
       "      <th></th>\n",
       "      <th>ShowName</th>\n",
       "      <th>Links</th>\n",
       "      <th>Imdb</th>\n",
       "      <th>Reelgood</th>\n",
       "      <th>Genres</th>\n",
       "      <th>MaturityRating</th>\n",
       "      <th>RunningDate</th>\n",
       "      <th>Seasons</th>\n",
       "      <th>ReturningDate</th>\n",
       "      <th>Service</th>\n",
       "      <th>Country</th>\n",
       "    </tr>\n",
       "  </thead>\n",
       "  <tbody>\n",
       "    <tr>\n",
       "      <th>0</th>\n",
       "      <td>Breaking Bad</td>\n",
       "      <td>https://reelgood.com/show/breaking-bad-2008</td>\n",
       "      <td>9.5</td>\n",
       "      <td>100.0</td>\n",
       "      <td>[Crime, Drama]</td>\n",
       "      <td>Rated: 18+ (TV-MA)</td>\n",
       "      <td>2008 - 2013</td>\n",
       "      <td>5 Seasons</td>\n",
       "      <td>Series Ended</td>\n",
       "      <td>[Netflix]</td>\n",
       "      <td>[America]</td>\n",
       "    </tr>\n",
       "    <tr>\n",
       "      <th>1</th>\n",
       "      <td>Game of Thrones</td>\n",
       "      <td>https://reelgood.com/show/game-of-thrones-2011</td>\n",
       "      <td>9.3</td>\n",
       "      <td>99.0</td>\n",
       "      <td>[Action &amp; Adventure, Drama, Fantasy, Science-F...</td>\n",
       "      <td>Rated: 18+ (TV-MA)</td>\n",
       "      <td>2011 - 2019</td>\n",
       "      <td>8 Seasons</td>\n",
       "      <td>Series Ended</td>\n",
       "      <td>[HBO, HBO MAX]</td>\n",
       "      <td>[America]</td>\n",
       "    </tr>\n",
       "    <tr>\n",
       "      <th>2</th>\n",
       "      <td>Rick and Morty</td>\n",
       "      <td>https://reelgood.com/show/rick-and-morty-2013</td>\n",
       "      <td>9.2</td>\n",
       "      <td>97.0</td>\n",
       "      <td>[Action &amp; Adventure, Animation, Comedy, Fantas...</td>\n",
       "      <td>Rated: 18+ (TV-MA)</td>\n",
       "      <td>2013 - Present</td>\n",
       "      <td>4 Seasons</td>\n",
       "      <td>Returning: Date TBA</td>\n",
       "      <td>[Hulu, HBO, HBO MAX, fuboTV, Hoopla]</td>\n",
       "      <td>[America]</td>\n",
       "    </tr>\n",
       "    <tr>\n",
       "      <th>3</th>\n",
       "      <td>Stranger Things</td>\n",
       "      <td>https://reelgood.com/show/stranger-things-2016</td>\n",
       "      <td>8.8</td>\n",
       "      <td>96.0</td>\n",
       "      <td>[Action &amp; Adventure, Drama, Fantasy, Horror, M...</td>\n",
       "      <td>Rated: 14+ (TV-14)</td>\n",
       "      <td>2016 - Present</td>\n",
       "      <td>3 Seasons</td>\n",
       "      <td>Returning: Date TBA</td>\n",
       "      <td>[Netflix]</td>\n",
       "      <td>[America]</td>\n",
       "    </tr>\n",
       "    <tr>\n",
       "      <th>4</th>\n",
       "      <td>Dark</td>\n",
       "      <td>https://reelgood.com/show/dark-2017</td>\n",
       "      <td>8.8</td>\n",
       "      <td>95.0</td>\n",
       "      <td>[Crime, Drama, Fantasy, Mystery, Science-Fiction]</td>\n",
       "      <td>Rated: 14+ (TV-14)</td>\n",
       "      <td>2017 - 2020</td>\n",
       "      <td>3 Seasons</td>\n",
       "      <td>Series Ended</td>\n",
       "      <td>[Netflix]</td>\n",
       "      <td>[Germany]</td>\n",
       "    </tr>\n",
       "  </tbody>\n",
       "</table>\n",
       "</div>"
      ],
      "text/plain": [
       "          ShowName                                           Links  Imdb  \\\n",
       "0     Breaking Bad     https://reelgood.com/show/breaking-bad-2008   9.5   \n",
       "1  Game of Thrones  https://reelgood.com/show/game-of-thrones-2011   9.3   \n",
       "2   Rick and Morty   https://reelgood.com/show/rick-and-morty-2013   9.2   \n",
       "3  Stranger Things  https://reelgood.com/show/stranger-things-2016   8.8   \n",
       "4             Dark             https://reelgood.com/show/dark-2017   8.8   \n",
       "\n",
       "   Reelgood                                             Genres  \\\n",
       "0     100.0                                     [Crime, Drama]   \n",
       "1      99.0  [Action & Adventure, Drama, Fantasy, Science-F...   \n",
       "2      97.0  [Action & Adventure, Animation, Comedy, Fantas...   \n",
       "3      96.0  [Action & Adventure, Drama, Fantasy, Horror, M...   \n",
       "4      95.0  [Crime, Drama, Fantasy, Mystery, Science-Fiction]   \n",
       "\n",
       "       MaturityRating     RunningDate    Seasons        ReturningDate  \\\n",
       "0  Rated: 18+ (TV-MA)     2008 - 2013  5 Seasons         Series Ended   \n",
       "1  Rated: 18+ (TV-MA)     2011 - 2019  8 Seasons         Series Ended   \n",
       "2  Rated: 18+ (TV-MA)  2013 - Present  4 Seasons  Returning: Date TBA   \n",
       "3  Rated: 14+ (TV-14)  2016 - Present  3 Seasons  Returning: Date TBA   \n",
       "4  Rated: 14+ (TV-14)     2017 - 2020  3 Seasons         Series Ended   \n",
       "\n",
       "                                Service    Country  \n",
       "0                             [Netflix]  [America]  \n",
       "1                        [HBO, HBO MAX]  [America]  \n",
       "2  [Hulu, HBO, HBO MAX, fuboTV, Hoopla]  [America]  \n",
       "3                             [Netflix]  [America]  \n",
       "4                             [Netflix]  [Germany]  "
      ]
     },
     "execution_count": 2,
     "metadata": {},
     "output_type": "execute_result"
    }
   ],
   "source": [
    "#initial set-up\n",
    "proj = pd.read_csv('project.csv', names=['ShowName', 'Links', 'Imdb', 'Reelgood', 'Genres', 'MaturityRating', 'RunningDate', 'Seasons', 'ReturningDate', 'Service', 'Country'], header=0)\n",
    "\n",
    "# for some fucking reason... pag ni iterate mo what looks like a god damn list... turns out.. it's not\n",
    "# for i in proj.Country: #Same for Genres and Services\n",
    "#     for j in i:\n",
    "#         time.sleep(1)\n",
    "#         print(j)\n",
    "\n",
    "services = ['Netflix', 'Hulu', 'Prime Video', 'Disney+', 'HBO', 'HBO MAX', \n",
    "            'Peacock', 'Apple TV+', 'fuboTV', 'Showtime', 'Starz', \n",
    "            'CBS All Access','Epix', 'Crunchyroll', 'Funimation', 'AMC Premiere', \n",
    "            'Kanopy', 'Hoopla', 'The Criterion Channel', 'BritBox', 'DC Universe', \n",
    "            'Mubi', 'Cinemax', 'Fandor', 'AcornTV', 'Hallmark Movies Now', 'BET+', \n",
    "            'Youtube Premium','IndieFlix']\n",
    "\n",
    "all_gen = ['Action & Adventure', 'Animation', 'Anime', 'Children', 'Comedy', 'Crime', \n",
    "           'Documentary', 'Drama', 'Family', 'Fantasy', 'Food', 'Game Show','Home & Garden',\n",
    "           'Horror','LGBTQ', 'Mystery', 'Reality', 'Science-Fiction', 'Sport', 'Stand-up & Talk', 'Travel']\n",
    "\n",
    "countries_list = ['America','Argentina','Australia','Austria','Belgium','Brazil','British Indian Ocean Territory','Bulgaria','Canada',\n",
    "                  'Chile','China','Colombia','Columbia','Croatia','Czechia','Denmark',\n",
    "                  'Egypt','Finland','France','Germany','Hong Kong','Hungary',\n",
    "                  'Iceland','India','Iraq','Ireland','Israel','Italy','Japan',\n",
    "                  'Luxembourg','Malaysia','Mexico','Netherlands','New Zealand',\n",
    "                  'Norway','Philippines','Poland','Puerto Rico','Russia','South Africa',\n",
    "                  'South Korea','Spain','Sweden','Switzerland','Taiwan','Thailand','Turkey','United Kingdom']\n",
    "\n",
    "def New_Services(serve):\n",
    "    new_list=[]\n",
    "    for service in services:\n",
    "        if service in serve:\n",
    "            new_list.append(service)\n",
    "    return new_list\n",
    "\n",
    "def New_Genres(more_gen):\n",
    "    Genre = []\n",
    "    for gen in all_gen:\n",
    "        if gen in more_gen:\n",
    "            Genre.append(gen)\n",
    "    return Genre\n",
    "\n",
    "def New_Countries(cntry):\n",
    "    new_country = []\n",
    "    for i in countries_list:\n",
    "        if i in cntry:\n",
    "            new_country.append(i)\n",
    "    return new_country\n",
    "\n",
    "proj['Service'] = proj['Service'].apply(New_Services)\n",
    "proj['Genres'] = proj['Genres'].astype(str).apply(New_Genres)\n",
    "proj['Country'] = proj['Country'].astype(str).apply(New_Countries)\n",
    "\n",
    "proj.head()"
   ]
  },
  {
   "cell_type": "markdown",
   "metadata": {},
   "source": [
    "- Running dates:\n",
    "    - inspect how many years did the show ran and it's ratings\n",
    "    - how many shows are still running.\n",
    "        - ratings\n",
    "        - genres\n",
    "    - how many shows has ended.\n",
    "        - ratings\n",
    "        - genres\n",
    "- Genres:\n",
    "    - how many shows per genre: %\n",
    "    - highest rated per genre\n",
    "- Maturity rating:\n",
    "    - how many shows per rating %\n",
    "    - highest rated per rating\n",
    "- Services:\n",
    "    - shows available per Service\n",
    "    - top shows per service\n",
    "- Correlation:\n",
    "    - ratings vs running time\n",
    "    - ratings vs genres\n",
    "    - ratings vs countries\n",
    "    - ratings vs maturity ratings\n",
    "    - does ratings affect the no of seasons"
   ]
  },
  {
   "cell_type": "code",
   "execution_count": 3,
   "metadata": {},
   "outputs": [
    {
     "data": {
      "text/plain": [
       "Index(['ShowName', 'Links', 'Imdb', 'Reelgood', 'Genres', 'MaturityRating',\n",
       "       'RunningDate', 'Seasons', 'ReturningDate', 'Service', 'Country'],\n",
       "      dtype='object')"
      ]
     },
     "execution_count": 3,
     "metadata": {},
     "output_type": "execute_result"
    }
   ],
   "source": [
    "proj.columns "
   ]
  },
  {
   "cell_type": "code",
   "execution_count": 4,
   "metadata": {},
   "outputs": [
    {
     "data": {
      "text/plain": [
       "(9778, 11)"
      ]
     },
     "execution_count": 4,
     "metadata": {},
     "output_type": "execute_result"
    }
   ],
   "source": [
    "proj.shape"
   ]
  },
  {
   "cell_type": "code",
   "execution_count": 5,
   "metadata": {},
   "outputs": [
    {
     "name": "stdout",
     "output_type": "stream",
     "text": [
      "<class 'pandas.core.frame.DataFrame'>\n",
      "RangeIndex: 9778 entries, 0 to 9777\n",
      "Data columns (total 11 columns):\n",
      " #   Column          Non-Null Count  Dtype  \n",
      "---  ------          --------------  -----  \n",
      " 0   ShowName        9778 non-null   object \n",
      " 1   Links           9778 non-null   object \n",
      " 2   Imdb            8282 non-null   float64\n",
      " 3   Reelgood        9294 non-null   float64\n",
      " 4   Genres          9778 non-null   object \n",
      " 5   MaturityRating  6017 non-null   object \n",
      " 6   RunningDate     9778 non-null   object \n",
      " 7   Seasons         9778 non-null   object \n",
      " 8   ReturningDate   9778 non-null   object \n",
      " 9   Service         9778 non-null   object \n",
      " 10  Country         9778 non-null   object \n",
      "dtypes: float64(2), object(9)\n",
      "memory usage: 840.4+ KB\n"
     ]
    }
   ],
   "source": [
    "proj.info()"
   ]
  },
  {
   "cell_type": "code",
   "execution_count": 6,
   "metadata": {},
   "outputs": [
    {
     "data": {
      "text/plain": [
       "ShowName           object\n",
       "Links              object\n",
       "Imdb              float64\n",
       "Reelgood          float64\n",
       "Genres             object\n",
       "MaturityRating     object\n",
       "RunningDate        object\n",
       "Seasons            object\n",
       "ReturningDate      object\n",
       "Service            object\n",
       "Country            object\n",
       "dtype: object"
      ]
     },
     "execution_count": 6,
     "metadata": {},
     "output_type": "execute_result"
    }
   ],
   "source": [
    "proj.dtypes"
   ]
  },
  {
   "cell_type": "code",
   "execution_count": 7,
   "metadata": {},
   "outputs": [
    {
     "data": {
      "text/html": [
       "<div>\n",
       "<style scoped>\n",
       "    .dataframe tbody tr th:only-of-type {\n",
       "        vertical-align: middle;\n",
       "    }\n",
       "\n",
       "    .dataframe tbody tr th {\n",
       "        vertical-align: top;\n",
       "    }\n",
       "\n",
       "    .dataframe thead th {\n",
       "        text-align: right;\n",
       "    }\n",
       "</style>\n",
       "<table border=\"1\" class=\"dataframe\">\n",
       "  <thead>\n",
       "    <tr style=\"text-align: right;\">\n",
       "      <th></th>\n",
       "      <th>Imdb</th>\n",
       "      <th>Reelgood</th>\n",
       "    </tr>\n",
       "  </thead>\n",
       "  <tbody>\n",
       "    <tr>\n",
       "      <th>count</th>\n",
       "      <td>8282.000000</td>\n",
       "      <td>9294.000000</td>\n",
       "    </tr>\n",
       "    <tr>\n",
       "      <th>mean</th>\n",
       "      <td>7.042272</td>\n",
       "      <td>49.406606</td>\n",
       "    </tr>\n",
       "    <tr>\n",
       "      <th>std</th>\n",
       "      <td>1.116074</td>\n",
       "      <td>17.560583</td>\n",
       "    </tr>\n",
       "    <tr>\n",
       "      <th>min</th>\n",
       "      <td>1.000000</td>\n",
       "      <td>10.000000</td>\n",
       "    </tr>\n",
       "    <tr>\n",
       "      <th>25%</th>\n",
       "      <td>6.500000</td>\n",
       "      <td>39.000000</td>\n",
       "    </tr>\n",
       "    <tr>\n",
       "      <th>50%</th>\n",
       "      <td>7.200000</td>\n",
       "      <td>50.000000</td>\n",
       "    </tr>\n",
       "    <tr>\n",
       "      <th>75%</th>\n",
       "      <td>7.800000</td>\n",
       "      <td>61.000000</td>\n",
       "    </tr>\n",
       "    <tr>\n",
       "      <th>max</th>\n",
       "      <td>9.600000</td>\n",
       "      <td>100.000000</td>\n",
       "    </tr>\n",
       "  </tbody>\n",
       "</table>\n",
       "</div>"
      ],
      "text/plain": [
       "              Imdb     Reelgood\n",
       "count  8282.000000  9294.000000\n",
       "mean      7.042272    49.406606\n",
       "std       1.116074    17.560583\n",
       "min       1.000000    10.000000\n",
       "25%       6.500000    39.000000\n",
       "50%       7.200000    50.000000\n",
       "75%       7.800000    61.000000\n",
       "max       9.600000   100.000000"
      ]
     },
     "execution_count": 7,
     "metadata": {},
     "output_type": "execute_result"
    }
   ],
   "source": [
    "proj.describe()"
   ]
  },
  {
   "cell_type": "code",
   "execution_count": 8,
   "metadata": {},
   "outputs": [
    {
     "data": {
      "text/plain": [
       "ShowName             0\n",
       "Links                0\n",
       "Imdb              1496\n",
       "Reelgood           484\n",
       "Genres               0\n",
       "MaturityRating    3761\n",
       "RunningDate          0\n",
       "Seasons              0\n",
       "ReturningDate        0\n",
       "Service              0\n",
       "Country              0\n",
       "dtype: int64"
      ]
     },
     "execution_count": 8,
     "metadata": {},
     "output_type": "execute_result"
    }
   ],
   "source": [
    "# Daming NaN Countries\n",
    "proj.isna().sum()"
   ]
  },
  {
   "cell_type": "markdown",
   "metadata": {},
   "source": [
    "What are the top 10 shows on IMDB that are available on each streaming service?"
   ]
  },
  {
   "cell_type": "code",
   "execution_count": 9,
   "metadata": {},
   "outputs": [],
   "source": [
    "# One Hot encoding for services\n",
    "mlb = MultiLabelBinarizer()\n",
    "service_pipe = proj.join(pd.DataFrame(mlb.fit_transform(proj.pop('Service')),\n",
    "                          columns=mlb.classes_,\n",
    "                          index=proj.index))\n",
    "\n",
    "# mlb.classes_"
   ]
  },
  {
   "cell_type": "code",
   "execution_count": null,
   "metadata": {},
   "outputs": [],
   "source": []
  }
 ],
 "metadata": {
  "kernelspec": {
   "display_name": "Python 3",
   "language": "python",
   "name": "python3"
  },
  "language_info": {
   "codemirror_mode": {
    "name": "ipython",
    "version": 3
   },
   "file_extension": ".py",
   "mimetype": "text/x-python",
   "name": "python",
   "nbconvert_exporter": "python",
   "pygments_lexer": "ipython3",
   "version": "3.8.5"
  }
 },
 "nbformat": 4,
 "nbformat_minor": 4
}
